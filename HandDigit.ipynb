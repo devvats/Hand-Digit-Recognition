{
  "nbformat": 4,
  "nbformat_minor": 0,
  "metadata": {
    "colab": {
      "name": "HandDigit.ipynb",
      "version": "0.3.2",
      "provenance": [],
      "collapsed_sections": [],
      "include_colab_link": true
    },
    "kernelspec": {
      "name": "python3",
      "display_name": "Python 3"
    }
  },
  "cells": [
    {
      "cell_type": "markdown",
      "metadata": {
        "id": "view-in-github",
        "colab_type": "text"
      },
      "source": [
        "<a href=\"https://colab.research.google.com/github/devvats/Hand-Digit-Recognition/blob/master/HandDigit.ipynb\" target=\"_parent\"><img src=\"https://colab.research.google.com/assets/colab-badge.svg\" alt=\"Open In Colab\"/></a>"
      ]
    },
    {
      "cell_type": "code",
      "metadata": {
        "id": "dNQLMv59N2Nq",
        "colab_type": "code",
        "outputId": "f1c25699-09db-415c-8f25-f4c4c429fa6e",
        "colab": {
          "base_uri": "https://localhost:8080/",
          "height": 122
        }
      },
      "source": [
        "import numpy as np\n",
        "import pandas as pd\n",
        "from google.colab import drive\n",
        "drive.mount('/content/drive')"
      ],
      "execution_count": 0,
      "outputs": [
        {
          "output_type": "stream",
          "text": [
            "Go to this URL in a browser: https://accounts.google.com/o/oauth2/auth?client_id=947318989803-6bn6qk8qdgf4n4g3pfee6491hc0brc4i.apps.googleusercontent.com&redirect_uri=urn%3Aietf%3Awg%3Aoauth%3A2.0%3Aoob&scope=email%20https%3A%2F%2Fwww.googleapis.com%2Fauth%2Fdocs.test%20https%3A%2F%2Fwww.googleapis.com%2Fauth%2Fdrive%20https%3A%2F%2Fwww.googleapis.com%2Fauth%2Fdrive.photos.readonly%20https%3A%2F%2Fwww.googleapis.com%2Fauth%2Fpeopleapi.readonly&response_type=code\n",
            "\n",
            "Enter your authorization code:\n",
            "··········\n",
            "Mounted at /content/drive\n"
          ],
          "name": "stdout"
        }
      ]
    },
    {
      "cell_type": "code",
      "metadata": {
        "id": "HvQVv_AGON2W",
        "colab_type": "code",
        "colab": {}
      },
      "source": [
        "train = pd.read_csv(\"drive/My Drive/Hand Digit/digit-recognizer/train.csv\")\n",
        "test = pd.read_csv(\"drive/My Drive/Hand Digit/digit-recognizer/test.csv\")"
      ],
      "execution_count": 0,
      "outputs": []
    },
    {
      "cell_type": "code",
      "metadata": {
        "id": "BLmO7yMKO1LH",
        "colab_type": "code",
        "outputId": "14d62431-4fc1-43bd-d17e-850c643ca8ff",
        "colab": {
          "base_uri": "https://localhost:8080/",
          "height": 34
        }
      },
      "source": [
        "print(train.shape)"
      ],
      "execution_count": 0,
      "outputs": [
        {
          "output_type": "stream",
          "text": [
            "(42000, 785)\n"
          ],
          "name": "stdout"
        }
      ]
    },
    {
      "cell_type": "code",
      "metadata": {
        "id": "QdhQWQKKO6Lk",
        "colab_type": "code",
        "outputId": "dde9aa49-d6f4-480e-b4d1-2cd819387fcc",
        "colab": {
          "base_uri": "https://localhost:8080/",
          "height": 34
        }
      },
      "source": [
        "print(test.shape)"
      ],
      "execution_count": 0,
      "outputs": [
        {
          "output_type": "stream",
          "text": [
            "(28000, 784)\n"
          ],
          "name": "stdout"
        }
      ]
    },
    {
      "cell_type": "code",
      "metadata": {
        "id": "B_AM-399O853",
        "colab_type": "code",
        "colab": {}
      },
      "source": [
        "x = np.array(train)\n",
        "np.random.shuffle(x)"
      ],
      "execution_count": 0,
      "outputs": []
    },
    {
      "cell_type": "code",
      "metadata": {
        "id": "aj3bCn1fPGBA",
        "colab_type": "code",
        "colab": {}
      },
      "source": [
        "y = x[:,0]\n",
        "x = x[:,1:]"
      ],
      "execution_count": 0,
      "outputs": []
    },
    {
      "cell_type": "code",
      "metadata": {
        "id": "s93SFMHWPe-R",
        "colab_type": "code",
        "outputId": "4ad84979-5f80-4338-c8f8-dbd82a17fdd9",
        "colab": {
          "base_uri": "https://localhost:8080/",
          "height": 68
        }
      },
      "source": [
        "print(y.shape)\n",
        "print(x.shape)\n",
        "x.resize(42000,28,28)\n",
        "x = x[:,:,:,np.newaxis]\n",
        "print(x.shape)"
      ],
      "execution_count": 0,
      "outputs": [
        {
          "output_type": "stream",
          "text": [
            "(42000,)\n",
            "(42000, 1, 28, 28)\n",
            "(42000, 28, 28, 1)\n"
          ],
          "name": "stdout"
        }
      ]
    },
    {
      "cell_type": "code",
      "metadata": {
        "id": "QZ1uFU8SPjAA",
        "colab_type": "code",
        "colab": {}
      },
      "source": [
        "from keras.utils import Sequence,to_categorical\n",
        "\n",
        "class Generator(Sequence):\n",
        "  \n",
        "    def __init__(self,X,Y,batch,n_classes):\n",
        "        self.x=X\n",
        "        self.y=Y\n",
        "        self.batch=batch\n",
        "        self.n_classes=n_classes\n",
        "        self.cnt=0\n",
        "    \n",
        "    def __len__(self):\n",
        "        print(np.array(self.x).shape)\n",
        "        return int(np.floor(np.array(self.x).shape[0]) / self.batch)\n",
        "  \n",
        "  \n",
        "    def __getitem__(self,index):\n",
        "      \n",
        "        X=self.x[index*self.batch:(index+1)*self.batch]\n",
        "        Y=self.y[index*(self.batch):(index+1)*self.batch]\n",
        "        X=np.array(X)\n",
        "        Y=np.array(Y)\n",
        "        return X,to_categorical(Y,self.n_classes)"
      ],
      "execution_count": 0,
      "outputs": []
    },
    {
      "cell_type": "code",
      "metadata": {
        "id": "Ucz7dQK9QFtk",
        "colab_type": "code",
        "colab": {}
      },
      "source": [
        "Xtrain = x[:30000]\n",
        "Ytrain = y[:30000]\n",
        "Xval = x[30000:]\n",
        "Yval = y[30000:]\n",
        "train = Generator(Xtrain, Ytrain,32,10)\n",
        "validation = Generator(Xval, Yval, 32, 10)"
      ],
      "execution_count": 0,
      "outputs": []
    },
    {
      "cell_type": "code",
      "metadata": {
        "id": "SJCx9yAzRfpl",
        "colab_type": "code",
        "outputId": "817b07cb-7a61-4ea7-bb7d-d6c3e806c109",
        "colab": {
          "base_uri": "https://localhost:8080/",
          "height": 578
        }
      },
      "source": [
        "import keras\n",
        "from keras.models import Sequential\n",
        "from keras.layers import Dense, Activation, Dropout, Flatten, Conv2D, MaxPooling2D,GlobalAveragePooling2D\n",
        "np.random.seed(17)\n",
        "\n",
        "model = Sequential()\n",
        "model.add(Conv2D(filters=10, input_shape=(28,28,1), kernel_size=(4,4), strides=(2,2), padding='same'))\n",
        "model.add(Activation('relu'))\n",
        "model.add(MaxPooling2D(pool_size=(2,2), strides=(1,1), padding='same'))\n",
        "\n",
        "\n",
        "model.add(Conv2D(filters=10, kernel_size=(10,10), strides=(1,1), padding='same'))\n",
        "model.add(Activation('relu'))\n",
        "\n",
        "model.add(Conv2D(filters=10, kernel_size=(20,20), strides=(2,2), padding='same'))\n",
        "model.add(Activation('relu'))\n",
        "\n",
        "model.add(MaxPooling2D(pool_size=(2,2), strides=(1,1), padding='same'))\n",
        "model.add(GlobalAveragePooling2D(data_format='channels_last'))\n",
        "\n",
        "model.add(Dense(200, input_shape=(1*1*1,)))\n",
        "model.add(Activation('relu'))\n",
        "\n",
        "\n",
        "model.add(Dense(10))\n",
        "model.add(Activation('softmax'))\n",
        "\n",
        "model.summary()"
      ],
      "execution_count": 0,
      "outputs": [
        {
          "output_type": "stream",
          "text": [
            "_________________________________________________________________\n",
            "Layer (type)                 Output Shape              Param #   \n",
            "=================================================================\n",
            "conv2d_29 (Conv2D)           (None, 14, 14, 10)        170       \n",
            "_________________________________________________________________\n",
            "activation_37 (Activation)   (None, 14, 14, 10)        0         \n",
            "_________________________________________________________________\n",
            "max_pooling2d_16 (MaxPooling (None, 14, 14, 10)        0         \n",
            "_________________________________________________________________\n",
            "conv2d_30 (Conv2D)           (None, 14, 14, 10)        10010     \n",
            "_________________________________________________________________\n",
            "activation_38 (Activation)   (None, 14, 14, 10)        0         \n",
            "_________________________________________________________________\n",
            "conv2d_31 (Conv2D)           (None, 7, 7, 10)          40010     \n",
            "_________________________________________________________________\n",
            "activation_39 (Activation)   (None, 7, 7, 10)          0         \n",
            "_________________________________________________________________\n",
            "max_pooling2d_17 (MaxPooling (None, 7, 7, 10)          0         \n",
            "_________________________________________________________________\n",
            "global_average_pooling2d_7 ( (None, 10)                0         \n",
            "_________________________________________________________________\n",
            "dense_13 (Dense)             (None, 200)               2200      \n",
            "_________________________________________________________________\n",
            "activation_40 (Activation)   (None, 200)               0         \n",
            "_________________________________________________________________\n",
            "dense_14 (Dense)             (None, 10)                2010      \n",
            "_________________________________________________________________\n",
            "activation_41 (Activation)   (None, 10)                0         \n",
            "=================================================================\n",
            "Total params: 54,400\n",
            "Trainable params: 54,400\n",
            "Non-trainable params: 0\n",
            "_________________________________________________________________\n"
          ],
          "name": "stdout"
        }
      ]
    },
    {
      "cell_type": "code",
      "metadata": {
        "id": "XEanUkvVS1BY",
        "colab_type": "code",
        "colab": {}
      },
      "source": [
        "#model.load_weights(\"drive/My Drive/code marathon dataset/data/model.h5\")\n",
        "model.compile(loss='categorical_crossentropy', optimizer='adam', metrics=['accuracy'])"
      ],
      "execution_count": 0,
      "outputs": []
    },
    {
      "cell_type": "code",
      "metadata": {
        "id": "RhmW_Z0sUaL2",
        "colab_type": "code",
        "outputId": "68350b51-39ac-4b34-9801-2115724d7dcd",
        "colab": {
          "base_uri": "https://localhost:8080/",
          "height": 612
        }
      },
      "source": [
        "Process = model.fit_generator(generator=train,\n",
        "                    validation_data=validation,\n",
        "                    use_multiprocessing=True,\n",
        "                    workers = 6,\n",
        "                    epochs = 15,\n",
        "                    verbose = 1,\n",
        "                    shuffle = True\n",
        "                             )"
      ],
      "execution_count": 0,
      "outputs": [
        {
          "output_type": "stream",
          "text": [
            "(12000, 28, 28, 1)\n",
            "(30000, 28, 28, 1)\n",
            "(12000, 28, 28, 1)\n",
            "Epoch 1/15\n",
            "(12000, 28, 28, 1)\n",
            "(30000, 28, 28, 1)\n",
            "937/937 [==============================] - 104s 111ms/step - loss: 0.3281 - acc: 0.8923 - val_loss: 0.0936 - val_acc: 0.9722\n",
            "Epoch 2/15\n",
            "937/937 [==============================] - 105s 112ms/step - loss: 0.0850 - acc: 0.9742 - val_loss: 0.1116 - val_acc: 0.9670\n",
            "Epoch 3/15\n",
            "937/937 [==============================] - 103s 110ms/step - loss: 0.0621 - acc: 0.9809 - val_loss: 0.1182 - val_acc: 0.9689\n",
            "Epoch 4/15\n",
            "937/937 [==============================] - 105s 112ms/step - loss: 0.0485 - acc: 0.9843 - val_loss: 0.0939 - val_acc: 0.9742\n",
            "Epoch 5/15\n",
            "937/937 [==============================] - 106s 113ms/step - loss: 0.0414 - acc: 0.9866 - val_loss: 0.0849 - val_acc: 0.9777\n",
            "Epoch 6/15\n",
            "937/937 [==============================] - 105s 112ms/step - loss: 0.0341 - acc: 0.9895 - val_loss: 0.1181 - val_acc: 0.9693\n",
            "Epoch 7/15\n",
            "937/937 [==============================] - 105s 112ms/step - loss: 0.0358 - acc: 0.9888 - val_loss: 0.0685 - val_acc: 0.9823\n",
            "Epoch 8/15\n",
            "937/937 [==============================] - 105s 112ms/step - loss: 0.0272 - acc: 0.9915 - val_loss: 0.0761 - val_acc: 0.9799\n",
            "Epoch 9/15\n",
            "937/937 [==============================] - 105s 112ms/step - loss: 0.0241 - acc: 0.9924 - val_loss: 0.0811 - val_acc: 0.9825\n",
            "Epoch 10/15\n",
            "937/937 [==============================] - 105s 112ms/step - loss: 0.0247 - acc: 0.9929 - val_loss: 0.0997 - val_acc: 0.9782\n",
            "Epoch 11/15\n",
            "937/937 [==============================] - 106s 114ms/step - loss: 0.0183 - acc: 0.9941 - val_loss: 0.1390 - val_acc: 0.9733\n",
            "Epoch 12/15\n",
            "937/937 [==============================] - 105s 112ms/step - loss: 0.0226 - acc: 0.9932 - val_loss: 0.0828 - val_acc: 0.9805\n",
            "Epoch 13/15\n",
            "937/937 [==============================] - 106s 113ms/step - loss: 0.0155 - acc: 0.9952 - val_loss: 0.0964 - val_acc: 0.9818\n",
            "Epoch 14/15\n",
            "937/937 [==============================] - 106s 113ms/step - loss: 0.0192 - acc: 0.9943 - val_loss: 0.1173 - val_acc: 0.9796\n",
            "Epoch 15/15\n",
            "937/937 [==============================] - 106s 114ms/step - loss: 0.0171 - acc: 0.9951 - val_loss: 0.1072 - val_acc: 0.9806\n"
          ],
          "name": "stdout"
        }
      ]
    },
    {
      "cell_type": "code",
      "metadata": {
        "id": "ywoGzaIXUgcf",
        "colab_type": "code",
        "colab": {}
      },
      "source": [
        "model.save_weights(\"drive/My Drive/Hand Digit/model.h5\")"
      ],
      "execution_count": 0,
      "outputs": []
    },
    {
      "cell_type": "code",
      "metadata": {
        "id": "baJ_Oqxybi4u",
        "colab_type": "code",
        "colab": {}
      },
      "source": [
        "xtest = np.array(test)\n",
        "xtest.resize(28000,28,28,1)\n"
      ],
      "execution_count": 0,
      "outputs": []
    },
    {
      "cell_type": "code",
      "metadata": {
        "id": "ovQ__QT7cawA",
        "colab_type": "code",
        "colab": {}
      },
      "source": [
        "ytest = model.predict(xtest)"
      ],
      "execution_count": 0,
      "outputs": []
    },
    {
      "cell_type": "code",
      "metadata": {
        "id": "qJpQXU-YcgHE",
        "colab_type": "code",
        "outputId": "6fca8abf-a653-427b-d1b7-f66046a00bf6",
        "colab": {
          "base_uri": "https://localhost:8080/",
          "height": 238
        }
      },
      "source": [
        ""
      ],
      "execution_count": 0,
      "outputs": [
        {
          "output_type": "stream",
          "text": [
            "[[5.2996816e-26 1.6354679e-21 1.0000000e+00 ... 8.3523968e-20\n",
            "  7.2679064e-28 3.2685525e-34]\n",
            " [1.0000000e+00 1.5064534e-18 7.7462870e-17 ... 4.3489768e-22\n",
            "  2.2919925e-16 1.9601525e-17]\n",
            " [2.1791971e-06 7.8773354e-08 5.3979754e-02 ... 4.3360526e-03\n",
            "  6.5209819e-03 9.3491417e-01]\n",
            " ...\n",
            " [2.2190014e-32 4.5318796e-27 7.1339260e-25 ... 2.0647346e-24\n",
            "  1.1014197e-22 5.4745565e-23]\n",
            " [2.5272637e-09 3.3586372e-07 9.7114150e-07 ... 1.8134614e-02\n",
            "  1.4155058e-04 8.8637054e-01]\n",
            " [4.1514229e-29 6.0054891e-25 1.0000000e+00 ... 4.4287995e-23\n",
            "  1.9391444e-30 2.9228631e-37]]\n"
          ],
          "name": "stdout"
        }
      ]
    },
    {
      "cell_type": "code",
      "metadata": {
        "id": "tsmFsT32dkLf",
        "colab_type": "code",
        "colab": {}
      },
      "source": [
        "ytestt = np.argmax(ytest,axis =1)"
      ],
      "execution_count": 0,
      "outputs": []
    },
    {
      "cell_type": "code",
      "metadata": {
        "id": "xY_P8FAWedPd",
        "colab_type": "code",
        "outputId": "dd60f8fc-4281-4f7a-9c55-2be139048e54",
        "colab": {
          "base_uri": "https://localhost:8080/",
          "height": 34
        }
      },
      "source": [
        "print(ytestt)\n",
        "num= np.array(range(1,28001))"
      ],
      "execution_count": 0,
      "outputs": [
        {
          "output_type": "stream",
          "text": [
            "[2 0 9 ... 3 9 2]\n"
          ],
          "name": "stdout"
        }
      ]
    },
    {
      "cell_type": "code",
      "metadata": {
        "id": "RT75LjmKefxP",
        "colab_type": "code",
        "colab": {}
      },
      "source": [
        "#ytestt.resize(28000,1)\n",
        "#num.resize(28000,1)\n",
        "#num = np.hstack([num,ytestt])"
      ],
      "execution_count": 0,
      "outputs": []
    },
    {
      "cell_type": "code",
      "metadata": {
        "id": "pjHKFseFgRAp",
        "colab_type": "code",
        "colab": {}
      },
      "source": [
        "dff = pd.DataFrame({'ImageId':num,'Label':ytestt})\n",
        "dff.to_csv('drive/My Drive/Hand Digit/digit-recognizer/res.csv',index = False)"
      ],
      "execution_count": 0,
      "outputs": []
    },
    {
      "cell_type": "code",
      "metadata": {
        "id": "Z7slWSJjguir",
        "colab_type": "code",
        "colab": {}
      },
      "source": [
        ""
      ],
      "execution_count": 0,
      "outputs": []
    }
  ]
}